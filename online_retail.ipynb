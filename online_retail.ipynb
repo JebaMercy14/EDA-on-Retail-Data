{
 "cells": [
  {
   "cell_type": "markdown",
   "metadata": {},
   "source": [
    "# Portfolio Project: Online Retail Exploratory Data Analysis with Python"
   ]
  },
  {
   "cell_type": "markdown",
   "metadata": {},
   "source": [
    "## Overview\n",
    "\n",
    "In this project, you will step into the shoes of an entry-level data analyst at an online retail company, helping interpret real-world data to help make a key business decision."
   ]
  },
  {
   "cell_type": "markdown",
   "metadata": {},
   "source": [
    "## Case Study\n",
    "In this project, you will be working with transactional data from an online retail store. The dataset contains information about customer purchases, including product details, quantities, prices, and timestamps. Your task is to explore and analyze this dataset to gain insights into the store's sales trends, customer behavior, and popular products. \n",
    "\n",
    "By conducting exploratory data analysis, you will identify patterns, outliers, and correlations in the data, allowing you to make data-driven decisions and recommendations to optimize the store's operations and improve customer satisfaction. Through visualizations and statistical analysis, you will uncover key trends, such as the busiest sales months, best-selling products, and the store's most valuable customers. Ultimately, this project aims to provide actionable insights that can drive strategic business decisions and enhance the store's overall performance in the competitive online retail market.\n",
    "\n",
    "## Prerequisites\n",
    "\n",
    "Before starting this project, you should have some basic knowledge of Python programming and Pandas. In addition, you may want to use the following packages in your Python environment:\n",
    "\n",
    "- pandas\n",
    "- numpy\n",
    "- seaborn\n",
    "- matplotlib\n",
    "\n",
    "These packages should already be installed in Coursera's Jupyter Notebook environment, however if you'd like to install additional packages that are not included in this environment or are working off platform you can install additional packages using `!pip install packagename` within a notebook cell such as:\n",
    "\n",
    "- `!pip install pandas`\n",
    "- `!pip install matplotlib`"
   ]
  },
  {
   "cell_type": "markdown",
   "metadata": {},
   "source": [
    "## Project Objectives\n",
    "1. Describe data to answer key questions to uncover insights\n",
    "2. Gain valuable insights that will help improve online retail performance\n",
    "3. Provide analytic insights and data-driven recommendations"
   ]
  },
  {
   "cell_type": "markdown",
   "metadata": {},
   "source": [
    "## Dataset\n",
    "\n",
    "The dataset you will be working with is the \"Online Retail\" dataset. It contains transactional data of an online retail store from 2010 to 2011. The dataset is available as a .xlsx file named `Online Retail.xlsx`. This data file is already included in the Coursera Jupyter Notebook environment, however if you are working off-platform it can also be downloaded [here](https://archive.ics.uci.edu/ml/machine-learning-databases/00352/Online%20Retail.xlsx).\n",
    "\n",
    "The dataset contains the following columns:\n",
    "\n",
    "- InvoiceNo: Invoice number of the transaction\n",
    "- StockCode: Unique code of the product\n",
    "- Description: Description of the product\n",
    "- Quantity: Quantity of the product in the transaction\n",
    "- InvoiceDate: Date and time of the transaction\n",
    "- UnitPrice: Unit price of the product\n",
    "- CustomerID: Unique identifier of the customer\n",
    "- Country: Country where the transaction occurred"
   ]
  },
  {
   "cell_type": "markdown",
   "metadata": {},
   "source": [
    "## Tasks\n",
    "\n",
    "You may explore this dataset in any way you would like - however if you'd like some help getting started, here are a few ideas:\n",
    "\n",
    "1. Load the dataset into a Pandas DataFrame and display the first few rows to get an overview of the data.\n",
    "2. Perform data cleaning by handling missing values, if any, and removing any redundant or unnecessary columns.\n",
    "3. Explore the basic statistics of the dataset, including measures of central tendency and dispersion.\n",
    "4. Perform data visualization to gain insights into the dataset. Generate appropriate plots, such as histograms, scatter plots, or bar plots, to visualize different aspects of the data.\n",
    "5. Analyze the sales trends over time. Identify the busiest months and days of the week in terms of sales.\n",
    "6. Explore the top-selling products and countries based on the quantity sold.\n",
    "7. Identify any outliers or anomalies in the dataset and discuss their potential impact on the analysis.\n",
    "8. Draw conclusions and summarize your findings from the exploratory data analysis."
   ]
  },
  {
   "cell_type": "markdown",
   "metadata": {},
   "source": [
    "## Task 1: Load the Data"
   ]
  },
  {
   "cell_type": "code",
   "execution_count": 6,
   "metadata": {},
   "outputs": [],
   "source": [
    "# Load the dataset into a Pandas DataFrame and display the first few rows to get an overview of the data."
   ]
  },
  {
   "cell_type": "code",
   "execution_count": 2,
   "metadata": {},
   "outputs": [],
   "source": [
    "import pandas as pd"
   ]
  },
  {
   "cell_type": "code",
   "execution_count": 4,
   "metadata": {},
   "outputs": [],
   "source": [
    "df = pd.read_excel('Online Retail.xlsx')"
   ]
  },
  {
   "cell_type": "code",
   "execution_count": 5,
   "metadata": {},
   "outputs": [
    {
     "name": "stdout",
     "output_type": "stream",
     "text": [
      "  InvoiceNo StockCode                          Description  Quantity  \\\n",
      "0    536365    85123A   WHITE HANGING HEART T-LIGHT HOLDER         6   \n",
      "1    536365     71053                  WHITE METAL LANTERN         6   \n",
      "2    536365    84406B       CREAM CUPID HEARTS COAT HANGER         8   \n",
      "3    536365    84029G  KNITTED UNION FLAG HOT WATER BOTTLE         6   \n",
      "4    536365    84029E       RED WOOLLY HOTTIE WHITE HEART.         6   \n",
      "\n",
      "          InvoiceDate  UnitPrice  CustomerID         Country  \n",
      "0 2010-12-01 08:26:00       2.55     17850.0  United Kingdom  \n",
      "1 2010-12-01 08:26:00       3.39     17850.0  United Kingdom  \n",
      "2 2010-12-01 08:26:00       2.75     17850.0  United Kingdom  \n",
      "3 2010-12-01 08:26:00       3.39     17850.0  United Kingdom  \n",
      "4 2010-12-01 08:26:00       3.39     17850.0  United Kingdom  \n"
     ]
    }
   ],
   "source": [
    "print(df.head())"
   ]
  },
  {
   "cell_type": "markdown",
   "metadata": {},
   "source": [
    "## 2. Perform data cleaning by handling missing values, if any, and removing any redundant or unnecessary columns."
   ]
  },
  {
   "cell_type": "code",
   "execution_count": 6,
   "metadata": {},
   "outputs": [
    {
     "name": "stdout",
     "output_type": "stream",
     "text": [
      "InvoiceNo           0\n",
      "StockCode           0\n",
      "Description      1454\n",
      "Quantity            0\n",
      "InvoiceDate         0\n",
      "UnitPrice           0\n",
      "CustomerID     135080\n",
      "Country             0\n",
      "dtype: int64\n"
     ]
    }
   ],
   "source": [
    "print(df.isnull().sum())"
   ]
  },
  {
   "cell_type": "code",
   "execution_count": 7,
   "metadata": {},
   "outputs": [],
   "source": [
    "df.dropna(inplace=True)"
   ]
  },
  {
   "cell_type": "code",
   "execution_count": 10,
   "metadata": {},
   "outputs": [
    {
     "name": "stdout",
     "output_type": "stream",
     "text": [
      "InvoiceNo      0\n",
      "StockCode      0\n",
      "Description    0\n",
      "Quantity       0\n",
      "InvoiceDate    0\n",
      "UnitPrice      0\n",
      "CustomerID     0\n",
      "Country        0\n",
      "dtype: int64\n"
     ]
    }
   ],
   "source": [
    "print(df.isnull().sum())"
   ]
  },
  {
   "cell_type": "code",
   "execution_count": 12,
   "metadata": {},
   "outputs": [
    {
     "name": "stdout",
     "output_type": "stream",
     "text": [
      "            Quantity      UnitPrice\n",
      "count  406829.000000  406829.000000\n",
      "mean       12.061303       3.460471\n",
      "std       248.693370      69.315162\n",
      "min    -80995.000000       0.000000\n",
      "25%         2.000000       1.250000\n",
      "50%         5.000000       1.950000\n",
      "75%        12.000000       3.750000\n",
      "max     80995.000000   38970.000000\n"
     ]
    }
   ],
   "source": [
    "print(df[['Quantity', 'UnitPrice']].describe())"
   ]
  },
  {
   "cell_type": "markdown",
   "metadata": {},
   "source": [
    "## 3. Explore the basic statistics of the dataset, including measures of central tendency and dispersion."
   ]
  },
  {
   "cell_type": "code",
   "execution_count": 13,
   "metadata": {},
   "outputs": [
    {
     "name": "stdout",
     "output_type": "stream",
     "text": [
      "            Quantity      UnitPrice     CustomerID\n",
      "count  406829.000000  406829.000000  406829.000000\n",
      "mean       12.061303       3.460471   15287.690570\n",
      "std       248.693370      69.315162    1713.600303\n",
      "min    -80995.000000       0.000000   12346.000000\n",
      "25%         2.000000       1.250000   13953.000000\n",
      "50%         5.000000       1.950000   15152.000000\n",
      "75%        12.000000       3.750000   16791.000000\n",
      "max     80995.000000   38970.000000   18287.000000\n"
     ]
    }
   ],
   "source": [
    "# Display basic statistics of the dataset\n",
    "print(df.describe())"
   ]
  },
  {
   "cell_type": "code",
   "execution_count": 14,
   "metadata": {},
   "outputs": [
    {
     "name": "stdout",
     "output_type": "stream",
     "text": [
      "            Quantity      UnitPrice\n",
      "count  406829.000000  406829.000000\n",
      "mean       12.061303       3.460471\n",
      "std       248.693370      69.315162\n",
      "min    -80995.000000       0.000000\n",
      "25%         2.000000       1.250000\n",
      "50%         5.000000       1.950000\n",
      "75%        12.000000       3.750000\n",
      "max     80995.000000   38970.000000\n"
     ]
    }
   ],
   "source": [
    "print(df[['Quantity', 'UnitPrice']].describe())"
   ]
  },
  {
   "cell_type": "code",
   "execution_count": 15,
   "metadata": {},
   "outputs": [
    {
     "data": {
      "image/png": "[encoded data removed]",
      "text/plain": [
       "<Figure size 720x576 with 2 Axes>"
      ]
     },
     "metadata": {
      "needs_background": "light"
     },
     "output_type": "display_data"
    }
   ],
   "source": [
    "import seaborn as sns\n",
    "import matplotlib.pyplot as plt\n",
    "\n",
    "# Calculate the correlation matrix\n",
    "correlation_matrix = df.corr()\n",
    "\n",
    "# Create a heatmap\n",
    "plt.figure(figsize=(10, 8))\n",
    "sns.heatmap(correlation_matrix, annot=True, cmap='coolwarm')\n",
    "plt.title('Correlation Heatmap')\n",
    "plt.show()\n"
   ]
  },
  {
   "cell_type": "markdown",
   "metadata": {},
   "source": [
    "## 4. Perform data visualization to gain insights into the dataset. Generate appropriate plots, such as histograms, scatter plots, or bar plots, to visualize different aspects of the data"
   ]
  },
  {
   "cell_type": "code",
   "execution_count": 21,
   "metadata": {},
   "outputs": [
    {
     "name": "stdout",
     "output_type": "stream",
     "text": [
      "  InvoiceNo StockCode                          Description  Quantity  \\\n",
      "0    536365    85123A   WHITE HANGING HEART T-LIGHT HOLDER         6   \n",
      "1    536365     71053                  WHITE METAL LANTERN         6   \n",
      "2    536365    84406B       CREAM CUPID HEARTS COAT HANGER         8   \n",
      "3    536365    84029G  KNITTED UNION FLAG HOT WATER BOTTLE         6   \n",
      "4    536365    84029E       RED WOOLLY HOTTIE WHITE HEART.         6   \n",
      "\n",
      "          InvoiceDate  UnitPrice  CustomerID         Country  \n",
      "0 2010-12-01 08:26:00       2.55     17850.0  United Kingdom  \n",
      "1 2010-12-01 08:26:00       3.39     17850.0  United Kingdom  \n",
      "2 2010-12-01 08:26:00       2.75     17850.0  United Kingdom  \n",
      "3 2010-12-01 08:26:00       3.39     17850.0  United Kingdom  \n",
      "4 2010-12-01 08:26:00       3.39     17850.0  United Kingdom  \n"
     ]
    }
   ],
   "source": [
    "print(df.head())"
   ]
  },
  {
   "cell_type": "code",
   "execution_count": 17,
   "metadata": {},
   "outputs": [],
   "source": [
    "import seaborn as sns"
   ]
  },
  {
   "cell_type": "code",
   "execution_count": 20,
   "metadata": {},
   "outputs": [
    {
     "data": {
      "image/png": "[encoded data removed]",
      "text/plain": [
       "<Figure size 432x288 with 1 Axes>"
      ]
     },
     "metadata": {
      "needs_background": "light"
     },
     "output_type": "display_data"
    }
   ],
   "source": [
    "# Plot a scatter plot\n",
    "sns.scatterplot(data=df, x='Quantity', y='UnitPrice')\n",
    "plt.title('Scatter Plot')\n",
    "plt.xlabel('Quantity')\n",
    "plt.ylabel('UnitPrice')\n",
    "plt.show()"
   ]
  },
  {
   "cell_type": "code",
   "execution_count": 23,
   "metadata": {},
   "outputs": [
    {
     "data": {
      "image/png": "[encoded data removed]",
      "text/plain": [
       "<Figure size 432x288 with 1 Axes>"
      ]
     },
     "metadata": {
      "needs_background": "light"
     },
     "output_type": "display_data"
    }
   ],
   "source": [
    "# Plot a bar plot\n",
    "sns.barplot(data=df, x='Country', y='Quantity')\n",
    "plt.title('Bar Plot')\n",
    "plt.xlabel('Country')\n",
    "plt.ylabel('Quantity')\n",
    "plt.show()"
   ]
  },
  {
   "cell_type": "code",
   "execution_count": 28,
   "metadata": {},
   "outputs": [
    {
     "data": {
      "image/png": "[encoded data removed]",
      "text/plain": [
       "<Figure size 432x288 with 1 Axes>"
      ]
     },
     "metadata": {
      "needs_background": "light"
     },
     "output_type": "display_data"
    }
   ],
   "source": [
    "# Plot a histogram\n",
    "sns.distplot(df['Quantity'])\n",
    "plt.title('Histogram of Column')\n",
    "plt.xlabel('Values')\n",
    "plt.ylabel('Frequency')\n",
    "plt.show()"
   ]
  },
  {
   "cell_type": "markdown",
   "metadata": {},
   "source": [
    "## 5. Analyze the sales trends over time. Identify the busiest months and days of the week in terms of sales."
   ]
  },
  {
   "cell_type": "code",
   "execution_count": 32,
   "metadata": {},
   "outputs": [],
   "source": [
    "df['OrderDate'] = pd.to_datetime(df['InvoiceDate'])"
   ]
  },
  {
   "cell_type": "code",
   "execution_count": 33,
   "metadata": {},
   "outputs": [],
   "source": [
    "df['Month'] = df['InvoiceDate'].dt.month\n",
    "df['DayOfWeek'] = df['InvoiceDate'].dt.dayofweek"
   ]
  },
  {
   "cell_type": "code",
   "execution_count": 35,
   "metadata": {},
   "outputs": [],
   "source": [
    "monthly_sales = df.groupby('Month')['Quantity'].sum()"
   ]
  },
  {
   "cell_type": "code",
   "execution_count": 36,
   "metadata": {},
   "outputs": [
    {
     "data": {
      "image/png": "[encoded data removed]",
      "text/plain": [
       "<Figure size 720x432 with 1 Axes>"
      ]
     },
     "metadata": {
      "needs_background": "light"
     },
     "output_type": "display_data"
    }
   ],
   "source": [
    "plt.figure(figsize=(10, 6))\n",
    "sns.barplot(x=monthly_sales.index, y=monthly_sales.values)\n",
    "plt.title('Monthly Sales')\n",
    "plt.xlabel('Month')\n",
    "plt.ylabel('Total Sales')\n",
    "plt.show()"
   ]
  },
  {
   "cell_type": "code",
   "execution_count": 37,
   "metadata": {},
   "outputs": [],
   "source": [
    "daily_sales = df.groupby('DayOfWeek')['Quantity'].mean()"
   ]
  },
  {
   "cell_type": "code",
   "execution_count": 38,
   "metadata": {},
   "outputs": [
    {
     "data": {
      "image/png": "[encoded data removed]",
      "text/plain": [
       "<Figure size 576x432 with 1 Axes>"
      ]
     },
     "metadata": {
      "needs_background": "light"
     },
     "output_type": "display_data"
    }
   ],
   "source": [
    "plt.figure(figsize=(8, 6))\n",
    "sns.barplot(x=daily_sales.index, y=daily_sales.values)\n",
    "plt.title('Average Daily Sales')\n",
    "plt.xlabel('Day of the Week')\n",
    "plt.ylabel('Average Sales')\n",
    "plt.xticks(ticks=range(7), labels=['Mon', 'Tue', 'Wed', 'Thu', 'Fri', 'Sat', 'Sun'])\n",
    "plt.show()"
   ]
  },
  {
   "cell_type": "markdown",
   "metadata": {},
   "source": [
    "## 6. Explore the top-selling products and countries based on the quantity sold"
   ]
  },
  {
   "cell_type": "code",
   "execution_count": 39,
   "metadata": {},
   "outputs": [],
   "source": [
    "product_sales = df.groupby('UnitPrice')['Quantity'].sum().reset_index()"
   ]
  },
  {
   "cell_type": "code",
   "execution_count": 40,
   "metadata": {},
   "outputs": [],
   "source": [
    "product_sales = product_sales.sort_values('Quantity', ascending=False)"
   ]
  },
  {
   "cell_type": "code",
   "execution_count": 41,
   "metadata": {},
   "outputs": [
    {
     "name": "stdout",
     "output_type": "stream",
     "text": [
      "     UnitPrice  Quantity\n",
      "88        1.25    485493\n",
      "35        0.42    467319\n",
      "105       1.65    368084\n",
      "65        0.85    295774\n",
      "95        1.45    231730\n",
      "153       2.55    160707\n",
      "54        0.72    155385\n",
      "32        0.39    150709\n",
      "79        1.06    142172\n",
      "168       2.95    138694\n"
     ]
    }
   ],
   "source": [
    "top_products = product_sales.head(10)  # Selecting top 10 products\n",
    "print(top_products)"
   ]
  },
  {
   "cell_type": "code",
   "execution_count": 42,
   "metadata": {},
   "outputs": [],
   "source": [
    "country_sales = df.groupby('Country')['Quantity'].sum().reset_index()"
   ]
  },
  {
   "cell_type": "code",
   "execution_count": 43,
   "metadata": {},
   "outputs": [],
   "source": [
    "country_sales = country_sales.sort_values('Quantity', ascending=False)"
   ]
  },
  {
   "cell_type": "code",
   "execution_count": 44,
   "metadata": {},
   "outputs": [
    {
     "name": "stdout",
     "output_type": "stream",
     "text": [
      "           Country  Quantity\n",
      "35  United Kingdom   4008533\n",
      "23     Netherlands    200128\n",
      "10            EIRE    136329\n",
      "14         Germany    117448\n",
      "13          France    109848\n",
      "0        Australia     83653\n",
      "31          Sweden     35637\n",
      "32     Switzerland     29778\n",
      "30           Spain     26824\n",
      "19           Japan     25218\n"
     ]
    }
   ],
   "source": [
    "top_countries = country_sales.head(10)  # Selecting top 10 countries\n",
    "print(top_countries)"
   ]
  },
  {
   "cell_type": "markdown",
   "metadata": {},
   "source": [
    "## 7. Identify any outliers or anomalies in the dataset and discuss their potential impact on the analysis."
   ]
  },
  {
   "cell_type": "code",
   "execution_count": 45,
   "metadata": {},
   "outputs": [
    {
     "data": {
      "image/png": "[encoded data removed]",
      "text/plain": [
       "<Figure size 576x432 with 1 Axes>"
      ]
     },
     "metadata": {
      "needs_background": "light"
     },
     "output_type": "display_data"
    },
    {
     "name": "stdout",
     "output_type": "stream",
     "text": [
      "Potential Outliers:\n",
      "       InvoiceNo StockCode                          Description  Quantity  \\\n",
      "4287     C536757     84347  ROTATING SILVER ANGELS T-LIGHT HLDR     -9360   \n",
      "4850      536809     84950       ASSORTED COLOUR T-LIGHT HOLDER      1824   \n",
      "4945      536830     84077    WORLD WAR 2 GLIDERS ASSTD DESIGNS      2880   \n",
      "4946      536830     21915               RED  HARMONICA IN BOX       1400   \n",
      "6365      536890    17084R                ASSORTED INCENSE PACK      1440   \n",
      "...          ...       ...                                  ...       ...   \n",
      "537883    581375     21137             BLACK RECORD COVER FRAME       960   \n",
      "540070    581458     22197                       POPCORN HOLDER      1500   \n",
      "540071    581459     22197                       POPCORN HOLDER      1200   \n",
      "540421    581483     23843          PAPER CRAFT , LITTLE BIRDIE     80995   \n",
      "540422   C581484     23843          PAPER CRAFT , LITTLE BIRDIE    -80995   \n",
      "\n",
      "               InvoiceDate  UnitPrice  CustomerID         Country  \\\n",
      "4287   2010-12-02 14:23:00       0.03     15838.0  United Kingdom   \n",
      "4850   2010-12-02 16:48:00       0.55     15299.0  United Kingdom   \n",
      "4945   2010-12-02 17:38:00       0.18     16754.0  United Kingdom   \n",
      "4946   2010-12-02 17:38:00       1.06     16754.0  United Kingdom   \n",
      "6365   2010-12-03 11:48:00       0.16     14156.0            EIRE   \n",
      "...                    ...        ...         ...             ...   \n",
      "537883 2011-12-08 12:36:00       3.39     16210.0  United Kingdom   \n",
      "540070 2011-12-08 18:45:00       0.72     17949.0  United Kingdom   \n",
      "540071 2011-12-08 18:46:00       0.72     17949.0  United Kingdom   \n",
      "540421 2011-12-09 09:15:00       2.08     16446.0  United Kingdom   \n",
      "540422 2011-12-09 09:27:00       2.08     16446.0  United Kingdom   \n",
      "\n",
      "                 OrderDate  Month  DayOfWeek  \n",
      "4287   2010-12-02 14:23:00     12          3  \n",
      "4850   2010-12-02 16:48:00     12          3  \n",
      "4945   2010-12-02 17:38:00     12          3  \n",
      "4946   2010-12-02 17:38:00     12          3  \n",
      "6365   2010-12-03 11:48:00     12          4  \n",
      "...                    ...    ...        ...  \n",
      "537883 2011-12-08 12:36:00     12          3  \n",
      "540070 2011-12-08 18:45:00     12          3  \n",
      "540071 2011-12-08 18:46:00     12          3  \n",
      "540421 2011-12-09 09:15:00     12          4  \n",
      "540422 2011-12-09 09:27:00     12          4  \n",
      "\n",
      "[188 rows x 11 columns]\n"
     ]
    }
   ],
   "source": [
    "import matplotlib.pyplot as plt\n",
    "import numpy as np\n",
    "\n",
    "# Compute z-scores for the 'Quantity' column\n",
    "z_scores = (df['Quantity'] - df['Quantity'].mean()) / df['Quantity'].std()\n",
    "\n",
    "# Define a threshold for identifying outliers\n",
    "z_score_threshold = 3\n",
    "\n",
    "# Identify potential outliers\n",
    "outliers = df[np.abs(z_scores) > z_score_threshold]\n",
    "\n",
    "# Visualize outliers using a box plot\n",
    "plt.figure(figsize=(8, 6))\n",
    "sns.boxplot(data=df, y='Quantity')\n",
    "plt.title('Box Plot of Quantity')\n",
    "plt.ylabel('Quantity')\n",
    "plt.show()\n",
    "\n",
    "# Print the identified outliers\n",
    "print(\"Potential Outliers:\")\n",
    "print(outliers)\n"
   ]
  },
  {
   "cell_type": "markdown",
   "metadata": {},
   "source": [
    "## 8. Draw conclusions and summarize your findings from the exploratory data analysis."
   ]
  },
  {
   "cell_type": "code",
   "execution_count": 46,
   "metadata": {},
   "outputs": [
    {
     "name": "stdout",
     "output_type": "stream",
     "text": [
      "Busiest Months:  11\n",
      "Busiest Days of the Week:  3\n",
      "Top-Selling Products:\n",
      "     UnitPrice  Quantity\n",
      "88        1.25    485493\n",
      "35        0.42    467319\n",
      "105       1.65    368084\n",
      "65        0.85    295774\n",
      "95        1.45    231730\n",
      "Top-Selling Countries:\n",
      "           Country  Quantity\n",
      "35  United Kingdom   4008533\n",
      "23     Netherlands    200128\n",
      "10            EIRE    136329\n",
      "14         Germany    117448\n",
      "13          France    109848\n",
      "Summary and Conclusions:\n",
      "The sales data showed variations throughout the year, with specific months and days of the week experiencing higher sales volumes.\n",
      "The busiest months were found to be 11\n",
      "The busiest days of the week were found to be 3\n",
      "The top-selling products were:\n",
      "     UnitPrice  Quantity\n",
      "88        1.25    485493\n",
      "35        0.42    467319\n",
      "105       1.65    368084\n",
      "65        0.85    295774\n",
      "95        1.45    231730\n",
      "The top-selling countries were:\n",
      "           Country  Quantity\n",
      "35  United Kingdom   4008533\n",
      "23     Netherlands    200128\n",
      "10            EIRE    136329\n",
      "14         Germany    117448\n",
      "13          France    109848\n"
     ]
    }
   ],
   "source": [
    "# Sales Trends over Time\n",
    "# Additional analysis and investigation may be required to understand the factors driving sales variations.\n",
    "\n",
    "# Busiest Months\n",
    "# Identify the months with the highest sales volumes based on total quantity sold.\n",
    "busiest_months = monthly_sales.idxmax()\n",
    "print(\"Busiest Months: \", busiest_months)\n",
    "\n",
    "# Busiest Days of the Week\n",
    "# Identify the days of the week with the highest sales volumes based on average daily sales.\n",
    "busiest_days = daily_sales.idxmax()\n",
    "print(\"Busiest Days of the Week: \", busiest_days)\n",
    "\n",
    "# Top-Selling Products\n",
    "# Identify the top-selling products based on total quantity sold.\n",
    "top_products = product_sales.head(5)  # Selecting top 5 products\n",
    "print(\"Top-Selling Products:\")\n",
    "print(top_products)\n",
    "\n",
    "# Top-Selling Countries\n",
    "# Identify the top-selling countries based on total quantity sold.\n",
    "top_countries = country_sales.head(5)  # Selecting top 5 countries\n",
    "print(\"Top-Selling Countries:\")\n",
    "print(top_countries)\n",
    "\n",
    "# Outliers and Anomalies\n",
    "# Evaluate the impact of outliers and anomalies on the analysis and conclusions drawn.\n",
    "# Handle outliers appropriately based on their nature and potential impact.\n",
    "\n",
    "# Summary and Conclusions\n",
    "# Summarize the key findings and conclusions from the exploratory data analysis.\n",
    "print(\"Summary and Conclusions:\")\n",
    "print(\"The sales data showed variations throughout the year, with specific months and days of the week experiencing higher sales volumes.\")\n",
    "print(\"The busiest months were found to be\", busiest_months)\n",
    "print(\"The busiest days of the week were found to be\", busiest_days)\n",
    "print(\"The top-selling products were:\")\n",
    "print(top_products)\n",
    "print(\"The top-selling countries were:\")\n",
    "print(top_countries)\n"
   ]
  },
  {
   "cell_type": "code",
   "execution_count": null,
   "metadata": {},
   "outputs": [],
   "source": []
  },
  {
   "cell_type": "code",
   "execution_count": null,
   "metadata": {},
   "outputs": [],
   "source": []
  }
 ],
 "metadata": {
  "kernelspec": {
   "display_name": "Python 3",
   "language": "python",
   "name": "python3"
  },
  "language_info": {
   "codemirror_mode": {
    "name": "ipython",
    "version": 3
   },
   "file_extension": ".py",
   "mimetype": "text/x-python",
   "name": "python",
   "nbconvert_exporter": "python",
   "pygments_lexer": "ipython3",
   "version": "3.7.6"
  }
 },
 "nbformat": 4,
 "nbformat_minor": 4
}
